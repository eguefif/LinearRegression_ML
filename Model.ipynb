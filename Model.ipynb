{
 "cells": [
  {
   "cell_type": "code",
   "execution_count": 4,
   "id": "91cc2623-5f18-41d7-9f08-c9810817a67b",
   "metadata": {},
   "outputs": [],
   "source": [
    "import numpy as np\n",
    "import matplotlib.pyplot as plt\n",
    "np.random.seed(191)"
   ]
  },
  {
   "cell_type": "code",
   "execution_count": 156,
   "id": "fe516155-0189-4f21-870a-24142e4e4076",
   "metadata": {},
   "outputs": [
    {
     "data": {
      "text/plain": [
       "[<matplotlib.lines.Line2D at 0x1bd6ab4b6d0>]"
      ]
     },
     "execution_count": 156,
     "metadata": {},
     "output_type": "execute_result"
    },
    {
     "data": {
      "image/png": "[encoded data removed]",
      "text/plain": [
       "<Figure size 432x288 with 1 Axes>"
      ]
     },
     "metadata": {
      "needs_background": "light"
     },
     "output_type": "display_data"
    }
   ],
   "source": [
    "x = np.arange(0, 5, 0.1)\n",
    "y = np.array([5+2.5*a for a in x])\n",
    "y = y + np.random.normal(0, 3.1, len(x))\n",
    "\n",
    "plt.scatter(x, y)\n",
    "plt.plot(x, [5+2.5*a for a in x], 'red')"
   ]
  },
  {
   "cell_type": "code",
   "execution_count": 209,
   "id": "efada837-3501-4b8d-8a7a-c3fba0fe5f66",
   "metadata": {},
   "outputs": [],
   "source": [
    "from math import sqrt\n",
    "\n",
    "\n",
    "class linear_model:\n",
    "    def __init__(self, x, y, b0_step=50, b1_step=1, stop_b0=0.00001, stop_b1=0.00001):\n",
    "        self.x = x\n",
    "        self.y = y\n",
    "        self.b0_step = b0_step\n",
    "        self.b0_step_sign = 1\n",
    "        self.b1_step = b1_step\n",
    "        self.b1_step_sign = 1\n",
    "        self.stop_b0 = stop_b0\n",
    "        self.stop_b1 = stop_b1\n",
    "        self.b0 = 0\n",
    "        self.b1 = 0\n",
    "        self.former_b0 = 0\n",
    "        self.former_b1 = 0\n",
    "    \n",
    "    def give_score(self, p1, p2):\n",
    "        n = len(self.y)-2\n",
    "        e1 = sqrt(sum((self.y-p1)**2)/n)\n",
    "        e2 = sqrt(sum((self.y-p2)**2)/n)\n",
    "        return e1-e2\n",
    "    \n",
    "    def init_b0(self):\n",
    "        ''' Define the sign of the step. We want to know the direction.'''\n",
    "        pred1 = self.b0_step\n",
    "        pred2 = -self.b0_step\n",
    "        \n",
    "        score = self.give_score(pred1, pred2)\n",
    "        \n",
    "        if score > 0:\n",
    "            self.b0_step_sign = -1\n",
    "    \n",
    "    def find_b0(self):\n",
    "        step = self.b0_step*self.b0_step_sign\n",
    "        \n",
    "        pred1 = self.b1 * self.x + self.b0\n",
    "        pred2 = self.b1 * self.x + self.b0 + step\n",
    "        \n",
    "        score = self.give_score(pred1, pred2)\n",
    "        # print('b0: ', self.b0, score)\n",
    "        \n",
    "        if score > 0:\n",
    "            self.former_b0 = self.b0\n",
    "            self.b0 = self.b0 + step\n",
    "        else:\n",
    "            self.b0_step = self.b0_step/2*self.b0_step_sign\n",
    "            \n",
    "    def init_b1(self):\n",
    "        pred1 = self.x * self.b1_step\n",
    "        pred2 = self.x * self.b1_step * -1\n",
    "        score = self.give_score(pred1, pred2)\n",
    "        \n",
    "        if score > 0:\n",
    "            self.b1_step_sign = -1\n",
    "            \n",
    "    def find_b1(self):\n",
    "        step = self.b1_step * self.b1_step_sign\n",
    "\n",
    "        pred1 = self.b1 * self.x + self.b0\n",
    "        pred2 = (self.b1+step) * self.x + self.b0\n",
    "        \n",
    "        score = self.give_score(pred1, pred2) \n",
    "        # print('b1: ', self.b1, score)\n",
    "        if score > 0:\n",
    "            self.former_b1 = self.b1\n",
    "            self.b1 = self.b1 + step\n",
    "        else:\n",
    "            self.b1_step = self.b1_step/2*self.b1_step_sign\n",
    "    \n",
    "    def train(self):        \n",
    "        self.init_b0()\n",
    "        self.init_b1()      \n",
    "        \n",
    "        while (self.b0 != self.former_b0 and self.b1 != self.former_b1) != True:\n",
    "            self.find_b1()\n",
    "            self.find_b0()\n",
    "            \n",
    "        print(f'Model as been fitted y = {self.b0} + {self.b1}*x')\n",
    "        \n",
    "    \n",
    "    def predict(self, value):\n",
    "        self.prediction = self.b0 + self.b1*value\n",
    "        return self.prediction\n",
    "    \n",
    "    def parameters(self):\n",
    "        return self.b0, self.b1\n",
    "    "
   ]
  },
  {
   "cell_type": "code",
   "execution_count": 210,
   "id": "00d8f369-c17a-4eed-8ec3-21af0d134c1e",
   "metadata": {},
   "outputs": [
    {
     "name": "stdout",
     "output_type": "stream",
     "text": [
      "Model as been fitted y = 1.5625 + 4*x\n"
     ]
    },
    {
     "data": {
      "image/png": "[encoded data removed]",
      "text/plain": [
       "<Figure size 432x288 with 1 Axes>"
      ]
     },
     "metadata": {
      "needs_background": "light"
     },
     "output_type": "display_data"
    }
   ],
   "source": [
    "model = linear_model(x, y)\n",
    "model.train()\n",
    "plt.scatter(x, y)\n",
    "plt.plot(x, model.predict(x), 'red')\n",
    "plt.show()"
   ]
  },
  {
   "cell_type": "code",
   "execution_count": 174,
   "id": "06dce386-6777-4560-a2f3-9a2f6e34f8d8",
   "metadata": {},
   "outputs": [
    {
     "data": {
      "image/png": "[encoded data removed]",
      "text/plain": [
       "<Figure size 432x288 with 1 Axes>"
      ]
     },
     "metadata": {
      "needs_background": "light"
     },
     "output_type": "display_data"
    }
   ],
   "source": [
    "from sklearn import linear_model\n",
    "\n",
    "reg = linear_model.LinearRegression()\n",
    "reg.fit(x.reshape(-1, 1), y.reshape(-1, 1))\n",
    "\n",
    "\n",
    "plt.scatter(x, y)\n",
    "plt.plot(x, reg.predict(x.reshape(-1, 1)), 'red')\n",
    "plt.show()"
   ]
  },
  {
   "cell_type": "code",
   "execution_count": 193,
   "id": "35b37ab1-74d4-4a33-b03e-a559f628adcd",
   "metadata": {},
   "outputs": [
    {
     "data": {
      "text/plain": [
       "(array([5.5771408]), array([[2.15886922]]))"
      ]
     },
     "execution_count": 193,
     "metadata": {},
     "output_type": "execute_result"
    }
   ],
   "source": [
    "reg.intercept_, reg.coef_"
   ]
  },
  {
   "cell_type": "code",
   "execution_count": 181,
   "id": "42392e53-87bf-480b-ae80-87dcad334dcc",
   "metadata": {},
   "outputs": [
    {
     "data": {
      "text/plain": [
       "(1.5625, 4)"
      ]
     },
     "execution_count": 181,
     "metadata": {},
     "output_type": "execute_result"
    }
   ],
   "source": [
    "param = model.parameters()\n",
    "param"
   ]
  },
  {
   "cell_type": "code",
   "execution_count": 184,
   "id": "d49e1796-2b7b-48e8-9827-50638a08f0eb",
   "metadata": {},
   "outputs": [
    {
     "data": {
      "text/plain": [
       "4.231203262733159"
      ]
     },
     "execution_count": 184,
     "metadata": {},
     "output_type": "execute_result"
    }
   ],
   "source": [
    "prediction = [param[0] + param[1]*a for a in x]\n",
    "e = sqrt(sum((y - prediction)**2)/(len(y)-2))\n",
    "e"
   ]
  },
  {
   "cell_type": "code",
   "execution_count": 194,
   "id": "29c89510-8f5b-4565-be0c-1ff48655cfb2",
   "metadata": {},
   "outputs": [
    {
     "data": {
      "text/plain": [
       "3.2083278257010686"
      ]
     },
     "execution_count": 194,
     "metadata": {},
     "output_type": "execute_result"
    }
   ],
   "source": [
    "prediction = [5.5771408 + 2.15886922*a for a in x]\n",
    "e = sqrt(sum((y - prediction)**2)/(len(y)-2))\n",
    "e"
   ]
  },
  {
   "cell_type": "code",
   "execution_count": 192,
   "id": "c1df4ae8-2311-4b4b-a966-9b90bd51f64c",
   "metadata": {},
   "outputs": [
    {
     "data": {
      "text/plain": [
       "[array([5.5771408]),\n",
       " array([5.79302773]),\n",
       " array([6.00891465]),\n",
       " array([6.22480157]),\n",
       " array([6.44068849]),\n",
       " array([6.65657542]),\n",
       " array([6.87246234]),\n",
       " array([7.08834926]),\n",
       " array([7.30423618]),\n",
       " array([7.5201231]),\n",
       " array([7.73601003]),\n",
       " array([7.95189695]),\n",
       " array([8.16778387]),\n",
       " array([8.38367079]),\n",
       " array([8.59955772]),\n",
       " array([8.81544464]),\n",
       " array([9.03133156]),\n",
       " array([9.24721848]),\n",
       " array([9.4631054]),\n",
       " array([9.67899233]),\n",
       " array([9.89487925]),\n",
       " array([10.11076617]),\n",
       " array([10.32665309]),\n",
       " array([10.54254002]),\n",
       " array([10.75842694]),\n",
       " array([10.97431386]),\n",
       " array([11.19020078]),\n",
       " array([11.4060877]),\n",
       " array([11.62197463]),\n",
       " array([11.83786155]),\n",
       " array([12.05374847]),\n",
       " array([12.26963539]),\n",
       " array([12.48552232]),\n",
       " array([12.70140924]),\n",
       " array([12.91729616]),\n",
       " array([13.13318308]),\n",
       " array([13.34907001]),\n",
       " array([13.56495693]),\n",
       " array([13.78084385]),\n",
       " array([13.99673077]),\n",
       " array([14.21261769]),\n",
       " array([14.42850462]),\n",
       " array([14.64439154]),\n",
       " array([14.86027846]),\n",
       " array([15.07616538]),\n",
       " array([15.29205231]),\n",
       " array([15.50793923]),\n",
       " array([15.72382615]),\n",
       " array([15.93971307]),\n",
       " array([16.15559999])]"
      ]
     },
     "execution_count": 192,
     "metadata": {},
     "output_type": "execute_result"
    }
   ],
   "source": [
    "prediction"
   ]
  },
  {
   "cell_type": "code",
   "execution_count": null,
   "id": "32a73548-ae32-4884-8159-7e060ddf39b3",
   "metadata": {},
   "outputs": [],
   "source": []
  }
 ],
 "metadata": {
  "kernelspec": {
   "display_name": "Python 3 (ipykernel)",
   "language": "python",
   "name": "python3"
  },
  "language_info": {
   "codemirror_mode": {
    "name": "ipython",
    "version": 3
   },
   "file_extension": ".py",
   "mimetype": "text/x-python",
   "name": "python",
   "nbconvert_exporter": "python",
   "pygments_lexer": "ipython3",
   "version": "3.9.7"
  }
 },
 "nbformat": 4,
 "nbformat_minor": 5
}
